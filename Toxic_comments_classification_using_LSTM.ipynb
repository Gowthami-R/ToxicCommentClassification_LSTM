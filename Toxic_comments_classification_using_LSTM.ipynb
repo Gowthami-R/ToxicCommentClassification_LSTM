{
  "nbformat": 4,
  "nbformat_minor": 0,
  "metadata": {
    "colab": {
      "name": "Toxic-comments-classification-using-LSTM.ipynb",
      "provenance": [],
      "collapsed_sections": [],
      "toc_visible": true
    },
    "kernelspec": {
      "name": "python3",
      "display_name": "Python 3"
    },
    "accelerator": "GPU"
  },
  "cells": [
    {
      "cell_type": "markdown",
      "metadata": {
        "id": "Z6IY-BPXgQNK"
      },
      "source": [
        "## Toxic Comment Classification using LSTM model"
      ]
    },
    {
      "cell_type": "code",
      "metadata": {
        "id": "7mwIf8bQtp1n"
      },
      "source": [
        "import os\r\n",
        "os.mkdir('templates')"
      ],
      "execution_count": 1,
      "outputs": []
    },
    {
      "cell_type": "code",
      "metadata": {
        "id": "vLa7TdFW43Ba"
      },
      "source": [
        "import numpy as np\r\n",
        "import pandas as pd\r\n",
        "from matplotlib import pyplot as plt\r\n",
        "%matplotlib inline\r\n",
        "import seaborn as sns\r\n",
        "import re\r\n",
        "import zipfile"
      ],
      "execution_count": 2,
      "outputs": []
    },
    {
      "cell_type": "code",
      "metadata": {
        "id": "IOBALk-q45-R"
      },
      "source": [
        "import tensorflow as tf\r\n",
        "from keras.models import Model\r\n",
        "from keras.layers import Dense,Embedding, Input , Activation\r\n",
        "from keras.layers import LSTM, Bidirectional, GlobalMaxPool1D, Dropout\r\n",
        "from keras.preprocessing.text import Tokenizer\r\n",
        "from keras.preprocessing.sequence import pad_sequences\r\n",
        "from keras import initializers, optimizers, layers"
      ],
      "execution_count": 3,
      "outputs": []
    },
    {
      "cell_type": "code",
      "metadata": {
        "id": "JY08Gxm4tzVz"
      },
      "source": [
        "index = '''\r\n",
        "<!DOCTYPE html>\r\n",
        "<html>\r\n",
        "<head>\r\n",
        "<style>\r\n",
        "\r\n",
        "/* This controls th style of the text area where user provide input */\r\n",
        "textarea {\r\n",
        "    width: 100%;\r\n",
        "    height: 50px;\r\n",
        "    padding: 12px 20px;\r\n",
        "    box-sizing: border-box;\r\n",
        "    border: 2px solid #ccc;\r\n",
        "    background-color: #f8f8f8;\r\n",
        "    font-size: 20px;\r\n",
        "    \r\n",
        "}\r\n",
        "\r\n",
        "</style>\r\n",
        "\r\n",
        "<body>\r\n",
        "<p><strong>Toxic Comment Classifier:</strong></p>\r\n",
        "\r\n",
        "<form action=\"/predictions\", method = \"POST\">\r\n",
        "  <textarea name=\"text\">Type comment here then press \"submit\" </textarea>\r\n",
        "  <input type=\"submit\">\r\n",
        "</form>\r\n",
        "</body>\r\n",
        "</html>\r\n",
        "'''\r\n",
        "\r\n",
        "preds = '''\r\n",
        "<!DOCTYPE html>\r\n",
        "<html>\r\n",
        "<head>\r\n",
        "\t<title>Prediction</title>\r\n",
        "</head>\r\n",
        "<body>\r\n",
        "<h1>{{text}}</h1>\r\n",
        "<br>\r\n",
        "<h2>Toxic: {{p[0]}}</h2>\r\n",
        "<h2>Severe Toxic: {{p[1]}}</h2>\r\n",
        "<h2>Obscene: {{p[2]}}</h2>\r\n",
        "<h2>Threat: {{p[3]}}</h2>\r\n",
        "<h2>Insult: {{p[4]}}</h2>\r\n",
        "<h2>Identity Hate: {{p[5]}}</h2>\r\n",
        "</body>\r\n",
        "</html>\r\n",
        "\r\n",
        "'''\r\n",
        "f1 = open('templates/preds.html', 'w')\r\n",
        "f2 = open('templates/index.html', 'w')\r\n",
        "f1.write(preds)\r\n",
        "f2.write(index)\r\n",
        "f1.close()\r\n",
        "f2.close()"
      ],
      "execution_count": 4,
      "outputs": []
    },
    {
      "cell_type": "code",
      "metadata": {
        "id": "OmZrQKA0mKHa"
      },
      "source": [
        "from zipfile import ZipFile\r\n",
        "zf = ZipFile('/content/jigsaw-toxic-comment-classification-challenge.zip', 'r')\r\n",
        "zf.extractall('./content')\r\n",
        "zf.close()"
      ],
      "execution_count": 5,
      "outputs": []
    },
    {
      "cell_type": "code",
      "metadata": {
        "id": "Fr8rb1CLgrqa"
      },
      "source": [
        "train = pd.read_csv('/content/content/train.csv.zip')\r\n",
        "test = pd.read_csv('/content/content/train.csv.zip')"
      ],
      "execution_count": 6,
      "outputs": []
    },
    {
      "cell_type": "code",
      "metadata": {
        "colab": {
          "base_uri": "https://localhost:8080/",
          "height": 190
        },
        "id": "2z1V2ep6hjFa",
        "outputId": "a774ead9-9dcd-4456-974a-30d4db5185bb"
      },
      "source": [
        "train.head()"
      ],
      "execution_count": 7,
      "outputs": [
        {
          "output_type": "execute_result",
          "data": {
            "text/html": [
              "<div>\n",
              "<style scoped>\n",
              "    .dataframe tbody tr th:only-of-type {\n",
              "        vertical-align: middle;\n",
              "    }\n",
              "\n",
              "    .dataframe tbody tr th {\n",
              "        vertical-align: top;\n",
              "    }\n",
              "\n",
              "    .dataframe thead th {\n",
              "        text-align: right;\n",
              "    }\n",
              "</style>\n",
              "<table border=\"1\" class=\"dataframe\">\n",
              "  <thead>\n",
              "    <tr style=\"text-align: right;\">\n",
              "      <th></th>\n",
              "      <th>id</th>\n",
              "      <th>comment_text</th>\n",
              "      <th>toxic</th>\n",
              "      <th>severe_toxic</th>\n",
              "      <th>obscene</th>\n",
              "      <th>threat</th>\n",
              "      <th>insult</th>\n",
              "      <th>identity_hate</th>\n",
              "    </tr>\n",
              "  </thead>\n",
              "  <tbody>\n",
              "    <tr>\n",
              "      <th>0</th>\n",
              "      <td>0000997932d777bf</td>\n",
              "      <td>Explanation\\nWhy the edits made under my usern...</td>\n",
              "      <td>0</td>\n",
              "      <td>0</td>\n",
              "      <td>0</td>\n",
              "      <td>0</td>\n",
              "      <td>0</td>\n",
              "      <td>0</td>\n",
              "    </tr>\n",
              "    <tr>\n",
              "      <th>1</th>\n",
              "      <td>000103f0d9cfb60f</td>\n",
              "      <td>D'aww! He matches this background colour I'm s...</td>\n",
              "      <td>0</td>\n",
              "      <td>0</td>\n",
              "      <td>0</td>\n",
              "      <td>0</td>\n",
              "      <td>0</td>\n",
              "      <td>0</td>\n",
              "    </tr>\n",
              "    <tr>\n",
              "      <th>2</th>\n",
              "      <td>000113f07ec002fd</td>\n",
              "      <td>Hey man, I'm really not trying to edit war. It...</td>\n",
              "      <td>0</td>\n",
              "      <td>0</td>\n",
              "      <td>0</td>\n",
              "      <td>0</td>\n",
              "      <td>0</td>\n",
              "      <td>0</td>\n",
              "    </tr>\n",
              "    <tr>\n",
              "      <th>3</th>\n",
              "      <td>0001b41b1c6bb37e</td>\n",
              "      <td>\"\\nMore\\nI can't make any real suggestions on ...</td>\n",
              "      <td>0</td>\n",
              "      <td>0</td>\n",
              "      <td>0</td>\n",
              "      <td>0</td>\n",
              "      <td>0</td>\n",
              "      <td>0</td>\n",
              "    </tr>\n",
              "    <tr>\n",
              "      <th>4</th>\n",
              "      <td>0001d958c54c6e35</td>\n",
              "      <td>You, sir, are my hero. Any chance you remember...</td>\n",
              "      <td>0</td>\n",
              "      <td>0</td>\n",
              "      <td>0</td>\n",
              "      <td>0</td>\n",
              "      <td>0</td>\n",
              "      <td>0</td>\n",
              "    </tr>\n",
              "  </tbody>\n",
              "</table>\n",
              "</div>"
            ],
            "text/plain": [
              "                 id  ... identity_hate\n",
              "0  0000997932d777bf  ...             0\n",
              "1  000103f0d9cfb60f  ...             0\n",
              "2  000113f07ec002fd  ...             0\n",
              "3  0001b41b1c6bb37e  ...             0\n",
              "4  0001d958c54c6e35  ...             0\n",
              "\n",
              "[5 rows x 8 columns]"
            ]
          },
          "metadata": {
            "tags": []
          },
          "execution_count": 7
        }
      ]
    },
    {
      "cell_type": "code",
      "metadata": {
        "colab": {
          "base_uri": "https://localhost:8080/"
        },
        "id": "yt3gef2HhlDR",
        "outputId": "70d85887-4288-4028-c146-f84a28739f41"
      },
      "source": [
        "train.columns"
      ],
      "execution_count": 8,
      "outputs": [
        {
          "output_type": "execute_result",
          "data": {
            "text/plain": [
              "Index(['id', 'comment_text', 'toxic', 'severe_toxic', 'obscene', 'threat',\n",
              "       'insult', 'identity_hate'],\n",
              "      dtype='object')"
            ]
          },
          "metadata": {
            "tags": []
          },
          "execution_count": 8
        }
      ]
    },
    {
      "cell_type": "code",
      "metadata": {
        "colab": {
          "base_uri": "https://localhost:8080/"
        },
        "id": "oFwLSoJZhqU9",
        "outputId": "055fab6c-5b28-45df-8e84-63ecd60246fd"
      },
      "source": [
        "train.shape"
      ],
      "execution_count": 9,
      "outputs": [
        {
          "output_type": "execute_result",
          "data": {
            "text/plain": [
              "(159571, 8)"
            ]
          },
          "metadata": {
            "tags": []
          },
          "execution_count": 9
        }
      ]
    },
    {
      "cell_type": "code",
      "metadata": {
        "colab": {
          "base_uri": "https://localhost:8080/",
          "height": 474
        },
        "id": "wX5xE_m8hsTR",
        "outputId": "de6a0f89-f49c-4ae1-98ce-6e01922f3edd"
      },
      "source": [
        "classes = [\"toxic\", \"severe_toxic\", \"obscene\", \"threat\", \"insult\", \"identity_hate\"]\r\n",
        "count = train[classes].sum()\r\n",
        "\r\n",
        "plt.figure(figsize=(12,6))\r\n",
        "df = sns.barplot(count.index, count.values)\r\n",
        "\r\n",
        "plt.title(\"Comments per label\")\r\n",
        "plt.xlabel('Label ')\r\n",
        "plt.ylabel('Comments count')"
      ],
      "execution_count": 10,
      "outputs": [
        {
          "output_type": "stream",
          "text": [
            "/usr/local/lib/python3.6/dist-packages/seaborn/_decorators.py:43: FutureWarning: Pass the following variables as keyword args: x, y. From version 0.12, the only valid positional argument will be `data`, and passing other arguments without an explicit keyword will result in an error or misinterpretation.\n",
            "  FutureWarning\n"
          ],
          "name": "stderr"
        },
        {
          "output_type": "execute_result",
          "data": {
            "text/plain": [
              "Text(0, 0.5, 'Comments count')"
            ]
          },
          "metadata": {
            "tags": []
          },
          "execution_count": 10
        },
        {
          "output_type": "display_data",
          "data": {
            "image/png": "[encoded data removed]",
            "text/plain": [
              "<Figure size 864x432 with 1 Axes>"
            ]
          },
          "metadata": {
            "tags": [],
            "needs_background": "light"
          }
        }
      ]
    },
    {
      "cell_type": "code",
      "metadata": {
        "id": "vXf6X_n69F2j"
      },
      "source": [
        "class ToxicClassifier(): \r\n",
        "  def preprocess(self, text):\r\n",
        "    text = text.lower()\r\n",
        "    text = \" \".join(text.split())\r\n",
        "    max_features = 20000\r\n",
        "    maxlen = 200\r\n",
        "    text = [text]\r\n",
        "    tokenizer = Tokenizer(num_words=max_features, filters='!\"#$%&()*+,-./:;<=>?@[\\\\]^_`{|}~\\t\\n',\r\n",
        "                      lower=True)\r\n",
        "    tokenizer.fit_on_texts(list(text))\r\n",
        "    tokenized = tokenizer.texts_to_sequences(text)\r\n",
        "    padded = pad_sequences(tokenized, maxlen=maxlen)\r\n",
        "    return padded\r\n",
        "\r\n",
        "  def get_model(self):\r\n",
        "    maxlen = 200\r\n",
        "    max_features = 20000\r\n",
        "    embed_size = 128\r\n",
        "    inp = Input(shape=(maxlen, ))\r\n",
        "    x = Embedding(max_features, embed_size)(inp)\r\n",
        "    x = Bidirectional(LSTM(50, return_sequences=True))(x)\r\n",
        "    x = GlobalMaxPool1D()(x)\r\n",
        "    x = Dropout(0.1)(x)\r\n",
        "    x = Dense(50, activation=\"relu\")(x)\r\n",
        "    x = Dropout(0.1)(x)\r\n",
        "    x = Dense(6, activation=\"sigmoid\")(x)\r\n",
        "    model = Model(inputs=inp, outputs=x)\r\n",
        "    model.compile(loss='binary_crossentropy',\r\n",
        "                  optimizer='adam',\r\n",
        "                  metrics=['accuracy'])\r\n",
        "    return model"
      ],
      "execution_count": 15,
      "outputs": []
    },
    {
      "cell_type": "code",
      "metadata": {
        "colab": {
          "base_uri": "https://localhost:8080/"
        },
        "id": "mx5PCPt1t6zY",
        "outputId": "a3933c3f-d7da-443a-ed8d-4ea9bd5709bc"
      },
      "source": [
        "!pip install flask-ngrok\r\n",
        "from flask import Flask, render_template\r\n",
        "from flask import request\r\n",
        "from flask_ngrok import run_with_ngrok\r\n",
        "\r\n",
        "app = Flask(__name__)\r\n",
        "run_with_ngrok(app) "
      ],
      "execution_count": 19,
      "outputs": [
        {
          "output_type": "stream",
          "text": [
            "Collecting flask-ngrok\n",
            "  Downloading https://files.pythonhosted.org/packages/af/6c/f54cb686ad1129e27d125d182f90f52b32f284e6c8df58c1bae54fa1adbc/flask_ngrok-0.0.25-py3-none-any.whl\n",
            "Requirement already satisfied: requests in /usr/local/lib/python3.6/dist-packages (from flask-ngrok) (2.23.0)\n",
            "Requirement already satisfied: Flask>=0.8 in /usr/local/lib/python3.6/dist-packages (from flask-ngrok) (1.1.2)\n",
            "Requirement already satisfied: certifi>=2017.4.17 in /usr/local/lib/python3.6/dist-packages (from requests->flask-ngrok) (2020.12.5)\n",
            "Requirement already satisfied: chardet<4,>=3.0.2 in /usr/local/lib/python3.6/dist-packages (from requests->flask-ngrok) (3.0.4)\n",
            "Requirement already satisfied: urllib3!=1.25.0,!=1.25.1,<1.26,>=1.21.1 in /usr/local/lib/python3.6/dist-packages (from requests->flask-ngrok) (1.24.3)\n",
            "Requirement already satisfied: idna<3,>=2.5 in /usr/local/lib/python3.6/dist-packages (from requests->flask-ngrok) (2.10)\n",
            "Requirement already satisfied: itsdangerous>=0.24 in /usr/local/lib/python3.6/dist-packages (from Flask>=0.8->flask-ngrok) (1.1.0)\n",
            "Requirement already satisfied: click>=5.1 in /usr/local/lib/python3.6/dist-packages (from Flask>=0.8->flask-ngrok) (7.1.2)\n",
            "Requirement already satisfied: Werkzeug>=0.15 in /usr/local/lib/python3.6/dist-packages (from Flask>=0.8->flask-ngrok) (1.0.1)\n",
            "Requirement already satisfied: Jinja2>=2.10.1 in /usr/local/lib/python3.6/dist-packages (from Flask>=0.8->flask-ngrok) (2.11.2)\n",
            "Requirement already satisfied: MarkupSafe>=0.23 in /usr/local/lib/python3.6/dist-packages (from Jinja2>=2.10.1->Flask>=0.8->flask-ngrok) (1.1.1)\n",
            "Installing collected packages: flask-ngrok\n",
            "Successfully installed flask-ngrok-0.0.25\n"
          ],
          "name": "stdout"
        }
      ]
    },
    {
      "cell_type": "code",
      "metadata": {
        "id": "Rj16xQUkt_Ii"
      },
      "source": [
        "@app.route('/')\r\n",
        "def input():\r\n",
        "  return render_template('index.html')"
      ],
      "execution_count": 20,
      "outputs": []
    },
    {
      "cell_type": "code",
      "metadata": {
        "id": "-Ou7V1ybuCr6"
      },
      "source": [
        "@app.route('/predictions', methods=[\"GET\", \"POST\"])\r\n",
        "def preds():\r\n",
        "  if request.method == \"POST\":\r\n",
        "    text = request.form.get('text')\r\n",
        "    tcc = ToxicClassifier()\r\n",
        "    processed = tcc.preprocess(text)\r\n",
        "    model = tcc.get_model()\r\n",
        "    pred = model.predict(processed)[0]\r\n",
        "    return render_template('preds.html', p = pred, text = text)"
      ],
      "execution_count": 21,
      "outputs": []
    },
    {
      "cell_type": "code",
      "metadata": {
        "colab": {
          "base_uri": "https://localhost:8080/"
        },
        "id": "3V85F8f-uFD7",
        "outputId": "aee378cd-4e94-4c86-eb32-3e4dd53ed015"
      },
      "source": [
        "app.run()"
      ],
      "execution_count": 22,
      "outputs": [
        {
          "output_type": "stream",
          "text": [
            " * Serving Flask app \"__main__\" (lazy loading)\n",
            " * Environment: production\n",
            "\u001b[31m   WARNING: This is a development server. Do not use it in a production deployment.\u001b[0m\n",
            "\u001b[2m   Use a production WSGI server instead.\u001b[0m\n",
            " * Debug mode: off\n"
          ],
          "name": "stdout"
        },
        {
          "output_type": "stream",
          "text": [
            " * Running on http://127.0.0.1:5000/ (Press CTRL+C to quit)\n"
          ],
          "name": "stderr"
        },
        {
          "output_type": "stream",
          "text": [
            " * Running on http://3d5c47c7219f.ngrok.io\n",
            " * Traffic stats available on http://127.0.0.1:4040\n"
          ],
          "name": "stdout"
        },
        {
          "output_type": "stream",
          "text": [
            "127.0.0.1 - - [21/Jan/2021 14:29:36] \"\u001b[37mGET / HTTP/1.1\u001b[0m\" 200 -\n",
            "127.0.0.1 - - [21/Jan/2021 14:29:37] \"\u001b[33mGET /favicon.ico HTTP/1.1\u001b[0m\" 404 -\n",
            "127.0.0.1 - - [21/Jan/2021 14:29:52] \"\u001b[37mPOST /predictions HTTP/1.1\u001b[0m\" 200 -\n"
          ],
          "name": "stderr"
        }
      ]
    },
    {
      "cell_type": "code",
      "metadata": {
        "id": "CHaQxNc8x-m3"
      },
      "source": [
        ""
      ],
      "execution_count": null,
      "outputs": []
    }
  ]
}